{
 "cells": [
  {
   "cell_type": "markdown",
   "metadata": {},
   "source": [
    "Import 3 Dataset"
   ]
  },
  {
   "cell_type": "code",
   "execution_count": 1,
   "metadata": {},
   "outputs": [],
   "source": [
    "import json\n",
    "with open(r\"dataset/train_dataset.json\", \"r\") as train_dataset:\n",
    "      train = json.load(train_dataset)"
   ]
  },
  {
   "cell_type": "code",
   "execution_count": 2,
   "metadata": {},
   "outputs": [
    {
     "data": {
      "text/plain": [
       "[{'context': 'Computational complexity theory is a branch of the theory of computation in theoretical computer science that focuses on classifying computational problems according to their inherent difficulty, and relating those classes to each other. A computational problem is understood to be a task that is in principle amenable to being solved by a computer, which is equivalent to stating that the problem may be solved by mechanical application of mathematical steps, such as an algorithm.',\n",
       "  'qas': [{'id': '00001',\n",
       "    'is_impossible': False,\n",
       "    'question': 'What branch of theoretical computer science deals with broadly classifying computational problems by difficulty and class of relationship?',\n",
       "    'answers': [{'text': 'Computational complexity theory',\n",
       "      'answer_start': 0}]},\n",
       "   {'id': '00002',\n",
       "    'is_impossible': False,\n",
       "    'question': 'By what main attribute are computational problems classified utilizing computational complexity theory?',\n",
       "    'answers': [{'text': 'inherent difficulty', 'answer_start': 175}]},\n",
       "   {'id': '00003',\n",
       "    'is_impossible': False,\n",
       "    'question': 'What is the term for a task that generally lends itself to being solved by a computer?',\n",
       "    'answers': [{'text': 'computational problems', 'answer_start': 133}]}]},\n",
       " {'context': 'A problem is regarded as inherently difficult if its solution requires significant resources, whatever the algorithm used. The theory formalizes this intuition, by introducing mathematical models of computation to study these problems and quantifying the amount of resources needed to solve them, such as time and storage. Other complexity measures are also used, such as the amount of communication (used in communication complexity), the number of gates in a circuit (used in circuit complexity) and the number of processors (used in parallel computing). One of the roles of computational complexity theory is to determine the practical limits on what computers can and cannot do.',\n",
       "  'qas': [{'id': '00004',\n",
       "    'is_impossible': False,\n",
       "    'question': 'What measure of a computational problem broadly defines the inherent difficulty of the solution?',\n",
       "    'answers': [{'text': 'if its solution requires significant resource',\n",
       "      'answer_start': 21}]},\n",
       "   {'id': '00005',\n",
       "    'is_impossible': False,\n",
       "    'question': 'What method is used to intuitively assess or quantify the amount of resources required to solve a computational problem?',\n",
       "    'answers': [{'text': 'mathematical models of computation',\n",
       "      'answer_start': 176}]},\n",
       "   {'id': '00006',\n",
       "    'is_impossible': False,\n",
       "    'question': 'What are two basic primary resources used to guage complexity?',\n",
       "    'answers': [{'text': 'time and storage', 'answer_start': 305}]}]},\n",
       " {'context': 'There are three major types of rock: igneous, sedimentary, and metamorphic. The rock cycle is an important concept in geology which illustrates the relationships between these three types of rock, and magma. When a rock crystallizes from melt (magma and/or lava), it is an igneous rock. This rock can be weathered and eroded, and then redeposited and lithified into a sedimentary rock, or be turned into a metamorphic rock due to heat and pressure that change the mineral content of the rock which gives it a characteristic fabric. The sedimentary rock can then be subsequently turned into a metamorphic rock due to heat and pressure and is then weathered, eroded, deposited, and lithified, ultimately becoming a sedimentary rock. Sedimentary rock may also be re-eroded and redeposited, and metamorphic rock may also undergo additional metamorphism. All three types of rocks may be re-melted; when this happens, a new magma is formed, from which an igneous rock may once again crystallize.',\n",
       "  'qas': [{'id': '00007',\n",
       "    'is_impossible': False,\n",
       "    'question': 'An igneous rock is a rock that crystallizes from what?',\n",
       "    'answers': [{'text': 'melt (magma and/or lava)', 'answer_start': 238}]},\n",
       "   {'id': '00008',\n",
       "    'is_impossible': False,\n",
       "    'question': 'Sedimentary rock can be turned into which of the three types of rock?',\n",
       "    'answers': [{'text': 'metamorphic rock', 'answer_start': 406}]},\n",
       "   {'id': '00009',\n",
       "    'is_impossible': False,\n",
       "    'question': 'When the three types of rock are re-melted what is formed?',\n",
       "    'answers': [{'text': 'new magma', 'answer_start': 914}]}]},\n",
       " {'context': \"In the 1960s, a series of discoveries, the most important of which was seafloor spreading, showed that the Earth's lithosphere, which includes the crust and rigid uppermost portion of the upper mantle, is separated into a number of tectonic plates that move across the plastically deforming, solid, upper mantle, which is called the asthenosphere. There is an intimate coupling between the movement of the plates on the surface and the convection of the mantle: oceanic plate motions and mantle convection currents always move in the same direction, because the oceanic lithosphere is the rigid upper thermal boundary layer of the convecting mantle. This coupling between rigid plates moving on the surface of the Earth and the convecting mantle is called plate tectonics.\",\n",
       "  'qas': [{'id': '00010',\n",
       "    'is_impossible': False,\n",
       "    'question': \"What was the most important discovery that led to the understanding that Earth's lithosphere is separated into tectonic plates?\",\n",
       "    'answers': [{'text': 'seafloor spreading', 'answer_start': 71}]},\n",
       "   {'id': '00011',\n",
       "    'is_impossible': False,\n",
       "    'question': 'Which parts of the Earth are included in the lithosphere?',\n",
       "    'answers': [{'text': 'the crust and rigid uppermost portion of the upper mantle',\n",
       "      'answer_start': 143}]},\n",
       "   {'id': '00012',\n",
       "    'is_impossible': False,\n",
       "    'question': \"What is another word for the Earth's upper mantle?\",\n",
       "    'answers': [{'text': 'asthenosphere', 'answer_start': 333}]}]},\n",
       " {'context': \"Oxygen is a chemical element with symbol O and atomic number 8. It is a member of the chalcogen group on the periodic table and is a highly reactive nonmetal and oxidizing agent that readily forms compounds (notably oxides) with most elements. By mass, oxygen is the third-most abundant element in the universe, after hydrogen and helium. At standard temperature and pressure, two atoms of the element bind to form dioxygen, a colorless and odorless diatomic gas with the formula O2. Diatomic oxygen gas constitutes 20.8% of the Earth's atmosphere. However, monitoring of atmospheric oxygen levels show a global downward trend, because of fossil-fuel burning. Oxygen is the most abundant element by mass in the Earth's crust as part of oxide compounds such as silicon dioxide, making up almost half of the crust's mass.\",\n",
       "  'qas': [{'id': '00013',\n",
       "    'is_impossible': False,\n",
       "    'question': 'What is the second most abundant element?',\n",
       "    'answers': [{'text': 'helium', 'answer_start': 331}]},\n",
       "   {'id': '00014',\n",
       "    'is_impossible': False,\n",
       "    'question': \"Which gas makes up 20.8% of the Earth's atmosphere?\",\n",
       "    'answers': [{'text': 'Diatomic oxygen', 'answer_start': 484}]},\n",
       "   {'id': '00015',\n",
       "    'is_impossible': False,\n",
       "    'question': 'How many atoms combine to form dioxygen?',\n",
       "    'answers': [{'text': 'two atoms', 'answer_start': 377}]}]},\n",
       " {'context': \"Southern California, often abbreviated SoCal, is a geographic and cultural region that generally comprises California's southernmost 10 counties. The region is traditionally described as 'eight counties', based on demographics and economic ties: Imperial, Los Angeles, Orange, Riverside, San Bernardino, San Diego, Santa Barbara, and Ventura. The more extensive 10-county definition, including Kern and San Luis Obispo counties, is also used based on historical political divisions. Southern California is a major economic center for the state of California and the United States.\",\n",
       "  'qas': [{'id': '00016',\n",
       "    'is_impossible': False,\n",
       "    'question': 'What is Southern California often abbreviated as?',\n",
       "    'answers': [{'text': 'SoCal', 'answer_start': 39}]},\n",
       "   {'id': '00017',\n",
       "    'is_impossible': False,\n",
       "    'question': \"Despite being traditionall described as 'eight counties', how many counties does this region actually have?\",\n",
       "    'answers': [{'text': '10 countries', 'answer_start': 133}]},\n",
       "   {'id': '00018',\n",
       "    'is_impossible': False,\n",
       "    'question': 'What is a major importance of Southern California in relation to California and the United States?',\n",
       "    'answers': [{'text': 'major economic center', 'answer_start': 133}]},\n",
       "   {'id': '00019',\n",
       "    'is_impossible': False,\n",
       "    'question': \"What are the ties that best described what the 'eight counties' are based on?\",\n",
       "    'answers': [{'text': 'demographics and economic ties',\n",
       "      'answer_start': 214}]},\n",
       "   {'id': '00020',\n",
       "    'is_impossible': False,\n",
       "    'question': 'The reasons for the las two counties to be added are based on what?',\n",
       "    'answers': [{'text': 'historical political divisions',\n",
       "      'answer_start': 451}]}]},\n",
       " {'context': \"The 8- and 10-county definitions are not used for the greater Southern California Megaregion, one of the 11 megaregions of the United States. The megaregion's area is more expansive, extending east into Las Vegas, Nevada, and south across the Mexican border into Tijuana.\",\n",
       "  'qas': [{'id': '00021',\n",
       "    'is_impossible': False,\n",
       "    'question': 'What is the name of the region that is not defined by the eight or 10 county definitions?',\n",
       "    'answers': [{'text': 'Southern California Megaregion',\n",
       "      'answer_start': 62}]},\n",
       "   {'id': '00022',\n",
       "    'is_impossible': False,\n",
       "    'question': 'How many megaregions are there in the United States?',\n",
       "    'answers': [{'text': '105', 'answer_start': 176}]},\n",
       "   {'id': '00023',\n",
       "    'is_impossible': False,\n",
       "    'question': 'What is the name of the state that the megaregion expands to in the east?',\n",
       "    'answers': [{'text': 'Nevada', 'answer_start': 214}]},\n",
       "   {'id': '00024',\n",
       "    'is_impossible': False,\n",
       "    'question': 'Which border does the megaregion extend over?',\n",
       "    'answers': [{'text': 'Mexican', 'answer_start': 243}]},\n",
       "   {'id': '00025',\n",
       "    'is_impossible': False,\n",
       "    'question': 'What is the name of the area past the border that the megaregion extends into?',\n",
       "    'answers': [{'text': 'Tijuana', 'answer_start': 263}]}]},\n",
       " {'context': 'To the east is the Colorado Desert and the Colorado River at the border with Arizona, and the Mojave Desert at the border with the state of Nevada. To the south is the Mexicoâ€“United States border.',\n",
       "  'qas': [{'id': '00026',\n",
       "    'is_impossible': False,\n",
       "    'question': 'What is the name of the desert on the border of Arizona?',\n",
       "    'answers': [{'text': 'the Colorado Desert', 'answer_start': 19}]},\n",
       "   {'id': '00027',\n",
       "    'is_impossible': False,\n",
       "    'question': 'What is the name of the desert near the border of Nevada?',\n",
       "    'answers': [{'text': 'Mojave Desert', 'answer_start': 94}]},\n",
       "   {'id': '00028',\n",
       "    'is_impossible': False,\n",
       "    'question': 'What is the name of the border to the south?',\n",
       "    'answers': [{'text': 'Mexicoâ€“United States border',\n",
       "      'answer_start': 168}]}]},\n",
       " {'context': 'Its counties of Los Angeles, Orange, San Diego, San Bernardino, and Riverside are the five most populous in the state and all are in the top 15 most populous counties in the United States.',\n",
       "  'qas': [{'id': '00029',\n",
       "    'is_impossible': False,\n",
       "    'question': 'Orange, San Diego, Riverside and San Bernardino make up four of the five counties. What is the name of the last county?',\n",
       "    'answers': [{'text': 'Los Angeles', 'answer_start': 16}]},\n",
       "   {'id': '00030',\n",
       "    'is_impossible': False,\n",
       "    'question': 'What country are all the counties in?',\n",
       "    'answers': [{'text': 'United States', 'answer_start': 174}]},\n",
       "   {'id': '00031',\n",
       "    'is_impossible': False,\n",
       "    'question': 'What are Los Angeles, Orange, San Diego, San Bernardino and Riverside?',\n",
       "    'answers': [{'text': 'five most populous in the state',\n",
       "      'answer_start': 86}]},\n",
       "   {'id': '00032',\n",
       "    'is_impossible': False,\n",
       "    'question': 'What is the lowest ranking one of the counties could have in terms of most populous counties in the United States?',\n",
       "    'answers': [{'text': 'Riverside', 'answer_start': 68}]},\n",
       "   {'id': '00033',\n",
       "    'is_impossible': False,\n",
       "    'question': 'What is the smallest geographical region discussed?',\n",
       "    'answers': [{'text': 'Riverside', 'answer_start': 68}]}]},\n",
       " {'context': \"The development of plate tectonics provided a physical basis for many observations of the solid Earth. Long linear regions of geologic features could be explained as plate boundaries. Mid-ocean ridges, high regions on the seafloor where hydrothermal vents and volcanoes exist, were explained as divergent boundaries, where two plates move apart. Arcs of volcanoes and earthquakes were explained as convergent boundaries, where one plate subducts under another. Transform boundaries, such as the San Andreas fault system, resulted in widespread powerful earthquakes. Plate tectonics also provided a mechanism for Alfred Wegener's theory of continental drift, in which the continents move across the surface of the Earth over geologic time. They also provided a driving force for crustal deformation, and a new setting for the observations of structural geology. The power of the theory of plate tectonics lies in its ability to combine all of these observations into a single theory of how the lithosphere moves over the convecting mantle.\",\n",
       "  'qas': [{'id': '00034',\n",
       "    'is_impossible': False,\n",
       "    'question': 'What is the area called where two plates move apart?',\n",
       "    'answers': [{'text': 'divergent boundaries', 'answer_start': 295}]},\n",
       "   {'id': '00035',\n",
       "    'is_impossible': False,\n",
       "    'question': 'What is the area called where one plate subducts under another?',\n",
       "    'answers': [{'text': 'convergent boundaries', 'answer_start': 398}]},\n",
       "   {'id': '00036',\n",
       "    'is_impossible': False,\n",
       "    'question': 'What type of fault boundary is defined by having widespread powerful earthquakes, as in the state of California?',\n",
       "    'answers': [{'text': 'Transform boundaries', 'answer_start': 411}]},\n",
       "   {'id': '00037',\n",
       "    'is_impossible': False,\n",
       "    'question': 'Whose theory was the theory of continental drift?',\n",
       "    'answers': [{'text': 'Alfred Wegener', 'answer_start': 612}]},\n",
       "   {'id': '00038',\n",
       "    'is_impossible': False,\n",
       "    'question': 'The lithosphere moves over which mantle n the theory of plate tectonics?',\n",
       "    'answers': [{'text': 'the convecting mantle', 'answer_start': 623}]}]},\n",
       " {'context': 'Seismologists can use the arrival times of seismic waves in reverse to image the interior of the Earth. Early advances in this field showed the existence of a liquid outer core (where shear waves were not able to propagate) and a dense solid inner core. These advances led to the development of a layered model of the Earth, with a crust and lithosphere on top, the mantle below (separated within itself by seismic discontinuities at 410 and 660 kilometers), and the outer core and inner core below that. More recently, seismologists have been able to create detailed images of wave speeds inside the earth in the same way a doctor images a body in a CT scan. These images have led to a much more detailed view of the interior of the Earth, and have replaced the simplified layered model with a much more dynamic model.',\n",
       "  'qas': [{'id': '00039',\n",
       "    'is_impossible': False,\n",
       "    'question': 'What types of waves do seismologists use to image the interior of the Earth?',\n",
       "    'answers': [{'text': 'seismic waves', 'answer_start': 43}]},\n",
       "   {'id': '00040',\n",
       "    'is_impossible': False,\n",
       "    'question': 'In the layered model of the Earth, the outermost layer is what?',\n",
       "    'answers': [{'text': 'crust and lithosphere', 'answer_start': 323}]},\n",
       "   {'id': '00041',\n",
       "    'is_impossible': False,\n",
       "    'question': 'In the layered model of the Earth, the mantle has two layers below it. What are they?',\n",
       "    'answers': [{'text': 'the outer core and inner core',\n",
       "      'answer_start': 423}]}]},\n",
       " {'context': 'Pharmacists are healthcare professionals with specialised education and training who perform various roles to ensure optimal health outcomes for their patients through the quality use of medicines. Pharmacists may also be small-business proprietors, owning the pharmacy in which they practice. Since pharmacists know about the mode of action of a particular drug, and its metabolism and physiological effects on the human body in great detail, they play an important role in optimisation of a drug treatment for an individual.',\n",
       "  'qas': [{'id': '00042',\n",
       "    'is_impossible': False,\n",
       "    'question': 'What type of professionals are pharmacists?',\n",
       "    'answers': [{'text': 'healthcare professionals with specialised education',\n",
       "      'answer_start': 16}]},\n",
       "   {'id': '00043',\n",
       "    'is_impossible': False,\n",
       "    'question': 'What types of health outcomes do pharmacists aim for with their patients?',\n",
       "    'answers': [{'text': 'optimal health outcomes', 'answer_start': 117}]},\n",
       "   {'id': '00044',\n",
       "    'is_impossible': False,\n",
       "    'question': 'What type of treatment are pharmacists important for?',\n",
       "    'answers': [{'text': 'optimisation of a drug treatment for an individual',\n",
       "      'answer_start': 475}]}]},\n",
       " {'context': 'A Pharmacy Technician in the UK is considered a health care professional and often does not work under the direct supervision of a pharmacist (if employed in a hospital pharmacy) but instead is supervised and managed by other senior pharmacy technicians. In the UK the role of a PhT has grown and responsibility has been passed on to them to manage the pharmacy department and specialised areas in pharmacy practice allowing pharmacists the time to specialise in their expert field as medication consultants spending more time working with patients and in research. A pharmacy technician once qualified has to register as a professional on the General Pharmaceutical Council (GPhC) register. The GPhC is the governing body for pharmacy health care professionals and this is who regulates the practice of pharmacists and pharmacy technicians.',\n",
       "  'qas': [{'id': '00045',\n",
       "    'is_impossible': False,\n",
       "    'question': 'Who oversees a Pharmacy Technician in the UK?',\n",
       "    'answers': [{'text': 'other senior pharmacy technicians',\n",
       "      'answer_start': 220}]},\n",
       "   {'id': '00046',\n",
       "    'is_impossible': False,\n",
       "    'question': 'With what body must a pharmacy technician register?',\n",
       "    'answers': [{'text': 'the General Pharmaceutical Council (GPhC) register',\n",
       "      'answer_start': 640}]},\n",
       "   {'id': '00047',\n",
       "    'is_impossible': False,\n",
       "    'question': 'What is a main duty of the GPhC?',\n",
       "    'answers': [{'text': 'regulates the practice of pharmacists and pharmacy technicians',\n",
       "      'answer_start': 778}]}]},\n",
       " {'context': \"The 1973 oil crisis began in October 1973 when the members of the Organization of Arab Petroleum Exporting Countries (OAPEC, consisting of the Arab members of OPEC plus Egypt and Syria) proclaimed an oil embargo. By the end of the embargo in March 1974, the price of oil had risen from US$3 per barrel to nearly $12 globally; US prices were significantly higher. The embargo caused an oil crisis, or 'shock', with many short- and long-term effects on global politics and the global economy. It was later called the 'first oil shock', followed by the 1979 oil crisis, termed the 'second oil shock.'\",\n",
       "  'qas': [{'id': '00048',\n",
       "    'is_impossible': False,\n",
       "    'question': 'When did the 1973 oil crisis begin?',\n",
       "    'answers': [{'text': 'October 1973', 'answer_start': 29}]},\n",
       "   {'id': '00049',\n",
       "    'is_impossible': False,\n",
       "    'question': 'What was the price of oil in March of 1974?',\n",
       "    'answers': [{'text': 'nearly $12', 'answer_start': 305}]},\n",
       "   {'id': '00050',\n",
       "    'is_impossible': False,\n",
       "    'question': 'When was the second oil crisis?',\n",
       "    'answers': [{'text': '1979', 'answer_start': 550}]}]}]"
      ]
     },
     "execution_count": 2,
     "metadata": {},
     "output_type": "execute_result"
    }
   ],
   "source": [
    "train"
   ]
  },
  {
   "cell_type": "code",
   "execution_count": 3,
   "metadata": {},
   "outputs": [],
   "source": [
    "with open(r\"dataset/test_dataset.json\", \"r\") as test_dataset:\n",
    "      test = json.load(test_dataset)"
   ]
  },
  {
   "cell_type": "code",
   "execution_count": 4,
   "metadata": {},
   "outputs": [
    {
     "data": {
      "text/plain": [
       "[{'context': 'The best, worst and average case complexity refer to three different ways of measuring the time complexity (or any other complexity measure) of different inputs of the same size.',\n",
       "  'qas': [{'id': '00001',\n",
       "    'is_impossible': False,\n",
       "    'question': 'What are the three primary expressions used to represent case complexity?',\n",
       "    'answers': [{'text': 'best, worst and average', 'answer_start': 4}]}]},\n",
       " {'context': 'Upper and lower bounds are usually stated using the big O notation, which hides constant factors and smaller terms.',\n",
       "  'qas': [{'id': '00002',\n",
       "    'is_impossible': False,\n",
       "    'question': 'What expression is generally used to convey upper or lower bounds?',\n",
       "    'answers': [{'text': 'big O notation', 'answer_start': 52}]},\n",
       "   {'id': '00003',\n",
       "    'is_impossible': True,\n",
       "    'question': 'What does a big O notation hide?',\n",
       "    'answers': [{'text': 'constant factors and smaller terms',\n",
       "      'answer_start': 80}]}]},\n",
       " {'context': 'Many important complexity classes can be defined by bounding the time or space used by the algorithm. Some important complexity classes of decision problems defined in this manner are the following:',\n",
       "  'qas': [{'id': '00004',\n",
       "    'is_impossible': False,\n",
       "    'question': 'What are two examples of measurements are bound within algorithms to establish complexity classes?',\n",
       "    'answers': [{'text': 'time or space', 'answer_start': 65}]},\n",
       "   {'id': '00005',\n",
       "    'is_impossible': True,\n",
       "    'question': 'What function is used by algorithms to define measurements like time or space?',\n",
       "    'answers': [{'text': 'bounding', 'answer_start': 52}]},\n",
       "   {'id': '00006',\n",
       "    'is_impossible': True,\n",
       "    'question': 'Bounding of time and space or similar measurements is often used by algorithms to define what?',\n",
       "    'answers': [{'text': 'complexity classes', 'answer_start': 15}]}]},\n",
       " {'context': 'The time and space hierarchy theorems form the basis for most separation results of complexity classes. For instance, the time hierarchy theorem tells us that P is strictly contained in EXPTIME, and the space hierarchy theorem tells us that L is strictly contained in PSPACE.',\n",
       "  'qas': [{'id': '00007',\n",
       "    'is_impossible': False,\n",
       "    'question': 'What is the foundation for separation results within complexity classes?',\n",
       "    'answers': [{'text': 'time and space hierarchy theorems',\n",
       "      'answer_start': 4}]},\n",
       "   {'id': '00008',\n",
       "    'is_impossible': True,\n",
       "    'question': 'Within what variable is L constrained according to the space hierarchy theorem?',\n",
       "    'answers': [{'text': 'PSPACE', 'answer_start': 268}]},\n",
       "   {'id': '00009',\n",
       "    'is_impossible': True,\n",
       "    'question': 'What is responsible for constraining P according to the time hierarchy theorem?',\n",
       "    'answers': [{'text': 'EXPTIME,', 'answer_start': 186}]}]},\n",
       " {'context': 'Along the same lines, co-NP is the class containing the complement problems (i.e. problems with the yes/no answers reversed) of NP problems. It is believed that NP is not equal to co-NP; however, it has not yet been proven. It has been shown that if these two complexity classes are not equal then P is not equal to NP.',\n",
       "  'qas': [{'id': '00010',\n",
       "    'is_impossible': False,\n",
       "    'question': 'In what complexity class do complement problems of NP problems exist?',\n",
       "    'answers': [{'text': 'co-NP', 'answer_start': 22}]},\n",
       "   {'id': '00011',\n",
       "    'is_impossible': True,\n",
       "    'question': 'How do the yes/no answers of a complement problem of NP appear?',\n",
       "    'answers': [{'text': 'reversed', 'answer_start': 115}]},\n",
       "   {'id': '00012',\n",
       "    'is_impossible': True,\n",
       "    'question': 'What is commonly believed to be the value relationship between P and co-NP',\n",
       "    'answers': [{'text': 'not equal', 'answer_start': 167}]}]},\n",
       " {'context': 'Similarly, it is not known if L (the set of all problems that can be solved in logarithmic space) is strictly contained in P or equal to P. Again, there are many complexity classes between the two, such as NL and NC, and it is not known if they are distinct or equal classes.',\n",
       "  'qas': [{'id': '00011',\n",
       "    'is_impossible': False,\n",
       "    'question': 'What variable is associated with all problems solved within logarithmic space?',\n",
       "    'answers': [{'text': 'L', 'answer_start': 30}]},\n",
       "   {'id': '00012',\n",
       "    'is_impossible': True,\n",
       "    'question': 'Though unkown, what are the most commonly ascribed attributes of L in relation to P?',\n",
       "    'answers': [{'text': 'strictly contained in P or equal to P',\n",
       "      'answer_start': 101}]},\n",
       "   {'id': '00013',\n",
       "    'is_impossible': True,\n",
       "    'question': 'What are two complexity classes between L and P?',\n",
       "    'answers': [{'text': 'NL and NC', 'answer_start': 206}]}]},\n",
       " {'context': 'Before the actual research explicitly devoted to the complexity of algorithmic problems started off, numerous foundations were laid out by various researchers. Most influential among these was the definition of Turing machines by Alan Turing in 1936, which turned out to be a very robust and flexible simplification of a computer.',\n",
       "  'qas': [{'id': '00014',\n",
       "    'is_impossible': False,\n",
       "    'question': 'What tactic did researchers employ to offset the former deficit of work surrounding the complexity of algorithmic problems?',\n",
       "    'answers': [{'text': 'foundations were laid out', 'answer_start': 110}]},\n",
       "   {'id': '00015',\n",
       "    'is_impossible': True,\n",
       "    'question': 'Who was the most influential researcher among those grappling with the deficit of work surrounding the complexity posed by algorithmic problems?',\n",
       "    'answers': [{'text': 'Alan Turing', 'answer_start': 230}]},\n",
       "   {'id': '00016',\n",
       "    'is_impossible': True,\n",
       "    'question': \"In what year was the Alan Turing's definitional model of a computing device received?\",\n",
       "    'answers': [{'text': '1936', 'answer_start': 245}]}]}]"
      ]
     },
     "execution_count": 4,
     "metadata": {},
     "output_type": "execute_result"
    }
   ],
   "source": [
    "test"
   ]
  },
  {
   "cell_type": "code",
   "execution_count": 5,
   "metadata": {},
   "outputs": [],
   "source": [
    "with open(r\"dataset/prediction_dataset.json\", \"r\") as prediction_dataset:\n",
    "      prediction = json.load(prediction_dataset)"
   ]
  },
  {
   "cell_type": "code",
   "execution_count": 6,
   "metadata": {},
   "outputs": [
    {
     "data": {
      "text/plain": [
       "[{'context': \"Lionel Messi is an Argentine professional footballer widely considered one of the greatest players of all time. He has spent the majority of his career at Barcelona, where he has won numerous trophies including multiple UEFA Champions League titles and Ballon d'Or awards. Messi is known for his incredible dribbling, precise finishing, and vision on the field.\",\n",
       "  'qas': [{'id': '001',\n",
       "    'question': 'Which football club has Lionel Messi spent most of his career at?'},\n",
       "   {'id': '002',\n",
       "    'question': 'What is Lionel Messi widely considered to be in the world of football?'},\n",
       "   {'id': '003',\n",
       "    'question': \"What are some of Lionel Messi's known skills on the football field?\"}]},\n",
       " {'context': 'Serena Williams is an American professional tennis player who is regarded as one of the greatest female tennis players of all time. With multiple Grand Slam titles to her name, including Wimbledon, the US Open, and the Australian Open, Williams has cemented her legacy in the sport. She is known for her powerful serve and aggressive playing style.',\n",
       "  'qas': [{'id': '004',\n",
       "    'question': 'Which country does Serena Williams represent in tennis?'},\n",
       "   {'id': '005',\n",
       "    'question': 'What is Serena Williams considered to be among female tennis players?'},\n",
       "   {'id': '006',\n",
       "    'question': \"What are some of Serena Williams' notable achievements in tennis?\"}]}]"
      ]
     },
     "execution_count": 6,
     "metadata": {},
     "output_type": "execute_result"
    }
   ],
   "source": [
    "prediction"
   ]
  },
  {
   "cell_type": "markdown",
   "metadata": {},
   "source": [
    "Importing library and set up model Question Answering using simpletransformer and roberta pretrained model"
   ]
  },
  {
   "cell_type": "code",
   "execution_count": 7,
   "metadata": {},
   "outputs": [
    {
     "name": "stdout",
     "output_type": "stream",
     "text": [
      "WARNING:tensorflow:From c:\\Software\\Python\\Lib\\site-packages\\keras\\src\\losses.py:2976: The name tf.losses.sparse_softmax_cross_entropy is deprecated. Please use tf.compat.v1.losses.sparse_softmax_cross_entropy instead.\n",
      "\n"
     ]
    }
   ],
   "source": [
    "from simpletransformers.question_answering import QuestionAnsweringModel, QuestionAnsweringArgs\n",
    "import wandb\n",
    "\n",
    "# define the model name\n",
    "model_type=\"roberta\"\n",
    "model_name= \"roberta-base\""
   ]
  },
  {
   "cell_type": "code",
   "execution_count": 8,
   "metadata": {},
   "outputs": [],
   "source": [
    "# configure the model and setting hyperparameter\n",
    "model_args = QuestionAnsweringArgs()\n",
    "model_args.train_batch_size = 128\n",
    "model_args.evaluate_during_training=True\n",
    "model_args.n_best_size=2\n",
    "model_args.num_train_epochs=7\n",
    "model_args.eval_batch_size=64\n",
    "model_args.overwrite_output_dir=True\n",
    "model_args.use_cached_eval_features=True\n",
    "model_args.output_dir=f\"outputs/{model_type}\"\n",
    "model_args.best_model_dir=f\"outputs/{model_type}/best_model\"\n",
    "model_args.max_seq_length=256\n",
    "model_args.evaluate_during_training_steps=1000\n",
    "model_args.save_model_every_epoch=False\n",
    "model_args.save_eval_checkpoints=False\n",
    "model_args.reprocess_input_data=True\n",
    "model_args.use_wandb=True\n",
    "model_args.wandb_project=\"QuestionAnswering\"\n",
    "model_args.wandb_kwargs={\"name\": model_name}"
   ]
  },
  {
   "cell_type": "code",
   "execution_count": 9,
   "metadata": {},
   "outputs": [
    {
     "name": "stderr",
     "output_type": "stream",
     "text": [
      "Failed to detect the name of this notebook, you can set it manually with the WANDB_NOTEBOOK_NAME environment variable to enable code saving.\n",
      "\u001b[34m\u001b[1mwandb\u001b[0m: Currently logged in as: \u001b[33mzulfikarahmad12\u001b[0m. Use \u001b[1m`wandb login --relogin`\u001b[0m to force relogin\n",
      "\u001b[34m\u001b[1mwandb\u001b[0m: \u001b[33mWARNING\u001b[0m If you're specifying your api key in code, ensure this code is not shared publicly.\n",
      "\u001b[34m\u001b[1mwandb\u001b[0m: \u001b[33mWARNING\u001b[0m Consider setting the WANDB_API_KEY environment variable, or running `wandb login` from the command line.\n",
      "\u001b[34m\u001b[1mwandb\u001b[0m: Appending key for api.wandb.ai to your netrc file: C:\\Users\\zulfi\\.netrc\n"
     ]
    },
    {
     "data": {
      "text/plain": [
       "True"
      ]
     },
     "execution_count": 9,
     "metadata": {},
     "output_type": "execute_result"
    }
   ],
   "source": [
    "# input wandb api key for visualization\n",
    "from dotenv import load_dotenv\n",
    "import os\n",
    "\n",
    "load_dotenv()\n",
    "\n",
    "wandb_api_key = os.getenv(\"WANDB_API_KEY\")\n",
    "wandb.login(key=wandb_api_key)"
   ]
  },
  {
   "cell_type": "code",
   "execution_count": 10,
   "metadata": {},
   "outputs": [],
   "source": [
    "# Hyperparameter default from QuestionAnsweringArgs simpletransformer library\n",
    "#     adafactor_beta1: float = None,\n",
    "#     adafactor_clip_threshold: float = 1,\n",
    "#     adafactor_decay_rate: float = -0.8,\n",
    "#     adafactor_eps: tuple = lambda : (1e-30, 0.001),\n",
    "#     adafactor_relative_step: bool = True,\n",
    "#     adafactor_scale_parameter: bool = True,\n",
    "#     adafactor_warmup_init: bool = True,\n",
    "#     adam_betas: tuple = lambda : (0.9, 0.999),\n",
    "#     adam_epsilon: float = 1e-8,\n",
    "#     best_model_dir: str = \"outputs/best_model\",\n",
    "#     cache_dir: str = \"cache_dir/\",\n",
    "#     config: dict = dict,\n",
    "#     cosine_schedule_num_cycles: float = 0.5,\n",
    "#     custom_layer_parameters: list = list,\n",
    "#     custom_parameter_groups: list = list,\n",
    "#     dataloader_num_workers: int = 0,\n",
    "#     do_lower_case: bool = False,\n",
    "#     dynamic_quantize: bool = False,\n",
    "#     early_stopping_consider_epochs: bool = False,\n",
    "#     early_stopping_delta: float = 0,\n",
    "#     early_stopping_metric: str = \"correct\",\n",
    "#     early_stopping_metric_minimize: bool = False,\n",
    "#     early_stopping_patience: int = 3,\n",
    "#     encoding: str = None,\n",
    "#     eval_batch_size: int = 100,\n",
    "#     evaluate_during_training: bool = False,\n",
    "#     evaluate_during_training_silent: bool = True,\n",
    "#     evaluate_during_training_steps: int = 2000,\n",
    "#     evaluate_during_training_verbose: bool = False,\n",
    "#     evaluate_each_epoch: bool = True,\n",
    "#     fp16: bool = True,\n",
    "#     gradient_accumulation_steps: int = 1,\n",
    "#     learning_rate: float = 0.00004,\n",
    "#     local_rank: int = -1,\n",
    "#     logging_steps: int = 50,\n",
    "#     loss_type: str = None,\n",
    "#     loss_args: dict = dict,\n",
    "#     manual_seed: int = None,\n",
    "#     max_grad_norm: float = 1,\n",
    "#     max_seq_length: int = 128,\n",
    "#     model_name: str = None,\n",
    "#     model_type: str = None,\n",
    "#     multiprocessing_chunksize: int = -1,\n",
    "#     n_gpu: int = 1,\n",
    "#     no_cache: bool = False,\n",
    "#     no_save: bool = False,\n",
    "#     not_saved_args: list = list,\n",
    "#     num_train_epochs: int = 1,\n",
    "#     optimizer: str = \"AdamW\",\n",
    "#     output_dir: str = \"outputs/\",\n",
    "#     overwrite_output_dir: bool = False,\n",
    "#     polynomial_decay_schedule_lr_end: float = 1e-7,\n",
    "#     polynomial_decay_schedule_power: float = 1,\n",
    "#     process_count: int = get_default_process_count,\n",
    "#     quantized_model: bool = False,\n",
    "#     reprocess_input_data: bool = True,\n",
    "#     save_best_model: bool = True,\n",
    "#     save_eval_checkpoints: bool = True,\n",
    "#     save_model_every_epoch: bool = True,\n",
    "#     save_optimizer_and_scheduler: bool = True,\n",
    "#     save_steps: int = 2000,\n",
    "#     scheduler: str = \"linear_schedule_with_warmup\",\n",
    "#     silent: bool = False,\n",
    "#     skip_special_tokens: bool = True,\n",
    "#     tensorboard_dir: str = None,\n",
    "#     thread_count: int = None,\n",
    "#     tokenizer_name: str = None,\n",
    "#     tokenizer_type: str = None,\n",
    "#     train_batch_size: int = 8,\n",
    "#     train_custom_parameters_only: bool = False,\n",
    "#     trust_remote_code: bool = False,\n",
    "#     use_cached_eval_features: bool = False,\n",
    "#     use_early_stopping: bool = False,\n",
    "#     use_hf_datasets: bool = False,\n",
    "#     use_multiprocessing: bool = True,\n",
    "#     use_multiprocessing_for_evaluation: bool = True,\n",
    "#     wandb_kwargs: dict = dict,\n",
    "#     wandb_project: str = None,\n",
    "#     warmup_ratio: float = 0.06,\n",
    "#     warmup_steps: int = 0,\n",
    "#     weight_decay: float = 0,\n",
    "#     model_class: str = \"QuestionAnsweringModel\",\n",
    "#     doc_stride: int = 384,\n",
    "#     lazy_loading: bool = False,\n",
    "#     max_answer_length: int = 100,\n",
    "#     max_query_length: int = 64,\n",
    "#     n_best_size: int = 20,\n",
    "#     null_score_diff_threshold: float = 0,\n",
    "#     special_tokens_list: list = list"
   ]
  },
  {
   "cell_type": "code",
   "execution_count": 11,
   "metadata": {},
   "outputs": [
    {
     "name": "stderr",
     "output_type": "stream",
     "text": [
      "Some weights of RobertaForQuestionAnswering were not initialized from the model checkpoint at roberta-base and are newly initialized: ['qa_outputs.bias', 'qa_outputs.weight']\n",
      "You should probably TRAIN this model on a down-stream task to be able to use it for predictions and inference.\n"
     ]
    }
   ],
   "source": [
    "# define the model\n",
    "model = QuestionAnsweringModel(\n",
    "      model_type,\n",
    "      model_name,\n",
    "      args=model_args,\n",
    "      use_cuda=False\n",
    ")"
   ]
  },
  {
   "cell_type": "code",
   "execution_count": 12,
   "metadata": {},
   "outputs": [],
   "source": [
    "# Remove output folder for retraining\n",
    "# !rmdir /s outputs"
   ]
  },
  {
   "cell_type": "code",
   "execution_count": 13,
   "metadata": {},
   "outputs": [
    {
     "name": "stderr",
     "output_type": "stream",
     "text": [
      "convert squad examples to features: 100%|██████████| 50/50 [00:00<00:00, 156.25it/s]\n",
      "add example index and unique id: 100%|██████████| 50/50 [00:00<00:00, 24707.26it/s]\n"
     ]
    },
    {
     "data": {
      "application/vnd.jupyter.widget-view+json": {
       "model_id": "5c2564a5f1a649e0b4adc01c9ff9578f",
       "version_major": 2,
       "version_minor": 0
      },
      "text/plain": [
       "Epoch:   0%|          | 0/7 [00:00<?, ?it/s]"
      ]
     },
     "metadata": {},
     "output_type": "display_data"
    },
    {
     "data": {
      "application/vnd.jupyter.widget-view+json": {
       "model_id": "20b92131df6044579f322b67de14b928",
       "version_major": 2,
       "version_minor": 0
      },
      "text/plain": [
       "VBox(children=(Label(value='Waiting for wandb.init()...\\r'), FloatProgress(value=0.011111111111111112, max=1.0…"
      ]
     },
     "metadata": {},
     "output_type": "display_data"
    },
    {
     "data": {
      "text/html": [
       "wandb version 0.16.6 is available!  To upgrade, please run:\n",
       " $ pip install wandb --upgrade"
      ],
      "text/plain": [
       "<IPython.core.display.HTML object>"
      ]
     },
     "metadata": {},
     "output_type": "display_data"
    },
    {
     "data": {
      "text/html": [
       "Tracking run with wandb version 0.16.4"
      ],
      "text/plain": [
       "<IPython.core.display.HTML object>"
      ]
     },
     "metadata": {},
     "output_type": "display_data"
    },
    {
     "data": {
      "text/html": [
       "Run data is saved locally in <code>d:\\Documents\\President University\\Final Project\\Natural Language Processing\\wandb\\run-20240423_083430-gdoirjde</code>"
      ],
      "text/plain": [
       "<IPython.core.display.HTML object>"
      ]
     },
     "metadata": {},
     "output_type": "display_data"
    },
    {
     "data": {
      "text/html": [
       "Syncing run <strong><a href='https://wandb.ai/zulfikarahmad12/QuestionAnswering/runs/gdoirjde' target=\"_blank\">roberta-base</a></strong> to <a href='https://wandb.ai/zulfikarahmad12/QuestionAnswering' target=\"_blank\">Weights & Biases</a> (<a href='https://wandb.me/run' target=\"_blank\">docs</a>)<br/>"
      ],
      "text/plain": [
       "<IPython.core.display.HTML object>"
      ]
     },
     "metadata": {},
     "output_type": "display_data"
    },
    {
     "data": {
      "text/html": [
       " View project at <a href='https://wandb.ai/zulfikarahmad12/QuestionAnswering' target=\"_blank\">https://wandb.ai/zulfikarahmad12/QuestionAnswering</a>"
      ],
      "text/plain": [
       "<IPython.core.display.HTML object>"
      ]
     },
     "metadata": {},
     "output_type": "display_data"
    },
    {
     "data": {
      "text/html": [
       " View run at <a href='https://wandb.ai/zulfikarahmad12/QuestionAnswering/runs/gdoirjde' target=\"_blank\">https://wandb.ai/zulfikarahmad12/QuestionAnswering/runs/gdoirjde</a>"
      ],
      "text/plain": [
       "<IPython.core.display.HTML object>"
      ]
     },
     "metadata": {},
     "output_type": "display_data"
    },
    {
     "data": {
      "application/vnd.jupyter.widget-view+json": {
       "model_id": "48c55831640a42b688234c279b1a518b",
       "version_major": 2,
       "version_minor": 0
      },
      "text/plain": [
       "Running Epoch 1 of 7:   0%|          | 0/1 [00:00<?, ?it/s]"
      ]
     },
     "metadata": {},
     "output_type": "display_data"
    },
    {
     "data": {
      "application/vnd.jupyter.widget-view+json": {
       "model_id": "f7313ec177e14f53908c8dcabe92f742",
       "version_major": 2,
       "version_minor": 0
      },
      "text/plain": [
       "Running Evaluation:   0%|          | 0/1 [00:00<?, ?it/s]"
      ]
     },
     "metadata": {},
     "output_type": "display_data"
    },
    {
     "data": {
      "application/vnd.jupyter.widget-view+json": {
       "model_id": "9f2f801480164d379f773f3d06b65ba4",
       "version_major": 2,
       "version_minor": 0
      },
      "text/plain": [
       "Running Epoch 2 of 7:   0%|          | 0/1 [00:00<?, ?it/s]"
      ]
     },
     "metadata": {},
     "output_type": "display_data"
    },
    {
     "data": {
      "application/vnd.jupyter.widget-view+json": {
       "model_id": "6bb537a5c9364f9390c7039b6e1c3678",
       "version_major": 2,
       "version_minor": 0
      },
      "text/plain": [
       "Running Evaluation:   0%|          | 0/1 [00:00<?, ?it/s]"
      ]
     },
     "metadata": {},
     "output_type": "display_data"
    },
    {
     "data": {
      "application/vnd.jupyter.widget-view+json": {
       "model_id": "05f698fa6e194331b74b16467f16b830",
       "version_major": 2,
       "version_minor": 0
      },
      "text/plain": [
       "Running Epoch 3 of 7:   0%|          | 0/1 [00:00<?, ?it/s]"
      ]
     },
     "metadata": {},
     "output_type": "display_data"
    },
    {
     "data": {
      "application/vnd.jupyter.widget-view+json": {
       "model_id": "88393a33b30d47c392d16ab908648693",
       "version_major": 2,
       "version_minor": 0
      },
      "text/plain": [
       "Running Evaluation:   0%|          | 0/1 [00:00<?, ?it/s]"
      ]
     },
     "metadata": {},
     "output_type": "display_data"
    },
    {
     "data": {
      "application/vnd.jupyter.widget-view+json": {
       "model_id": "9005adb4800c4f8caf01932af1e67c67",
       "version_major": 2,
       "version_minor": 0
      },
      "text/plain": [
       "Running Epoch 4 of 7:   0%|          | 0/1 [00:00<?, ?it/s]"
      ]
     },
     "metadata": {},
     "output_type": "display_data"
    },
    {
     "data": {
      "application/vnd.jupyter.widget-view+json": {
       "model_id": "d651e1d297ef4b14809d5d0e1014ec0a",
       "version_major": 2,
       "version_minor": 0
      },
      "text/plain": [
       "Running Evaluation:   0%|          | 0/1 [00:00<?, ?it/s]"
      ]
     },
     "metadata": {},
     "output_type": "display_data"
    },
    {
     "data": {
      "application/vnd.jupyter.widget-view+json": {
       "model_id": "66114c4419504310a600b2b9072ad71c",
       "version_major": 2,
       "version_minor": 0
      },
      "text/plain": [
       "Running Epoch 5 of 7:   0%|          | 0/1 [00:00<?, ?it/s]"
      ]
     },
     "metadata": {},
     "output_type": "display_data"
    },
    {
     "data": {
      "application/vnd.jupyter.widget-view+json": {
       "model_id": "a6f257a180094a6db9a92ca8b0f9a689",
       "version_major": 2,
       "version_minor": 0
      },
      "text/plain": [
       "Running Evaluation:   0%|          | 0/1 [00:00<?, ?it/s]"
      ]
     },
     "metadata": {},
     "output_type": "display_data"
    },
    {
     "data": {
      "application/vnd.jupyter.widget-view+json": {
       "model_id": "3d33e3201d014d47a26c8085055adf94",
       "version_major": 2,
       "version_minor": 0
      },
      "text/plain": [
       "Running Epoch 6 of 7:   0%|          | 0/1 [00:00<?, ?it/s]"
      ]
     },
     "metadata": {},
     "output_type": "display_data"
    },
    {
     "data": {
      "application/vnd.jupyter.widget-view+json": {
       "model_id": "01b8496fe9114abbac6d83c7639bb3cb",
       "version_major": 2,
       "version_minor": 0
      },
      "text/plain": [
       "Running Evaluation:   0%|          | 0/1 [00:00<?, ?it/s]"
      ]
     },
     "metadata": {},
     "output_type": "display_data"
    },
    {
     "data": {
      "application/vnd.jupyter.widget-view+json": {
       "model_id": "93799c15b51448da9f84df45f2a8aaae",
       "version_major": 2,
       "version_minor": 0
      },
      "text/plain": [
       "Running Epoch 7 of 7:   0%|          | 0/1 [00:00<?, ?it/s]"
      ]
     },
     "metadata": {},
     "output_type": "display_data"
    },
    {
     "data": {
      "application/vnd.jupyter.widget-view+json": {
       "model_id": "f56360eedd574263880d473d7d2cdfac",
       "version_major": 2,
       "version_minor": 0
      },
      "text/plain": [
       "Running Evaluation:   0%|          | 0/1 [00:00<?, ?it/s]"
      ]
     },
     "metadata": {},
     "output_type": "display_data"
    },
    {
     "data": {
      "text/plain": [
       "(7,\n",
       " {'global_step': [1, 2, 3, 4, 5, 6, 7],\n",
       "  'correct': [0, 0, 0, 0, 0, 0, 0],\n",
       "  'similar': [10, 7, 7, 9, 10, 9, 9],\n",
       "  'incorrect': [6, 9, 9, 7, 6, 7, 7],\n",
       "  'train_loss': [5.506830215454102,\n",
       "   5.504878044128418,\n",
       "   5.317293167114258,\n",
       "   5.094468116760254,\n",
       "   4.955488681793213,\n",
       "   4.8167924880981445,\n",
       "   4.655401229858398],\n",
       "  'eval_loss': [0.10540509968996048,\n",
       "   -0.04028274863958359,\n",
       "   -0.19750817120075226,\n",
       "   -0.34714576601982117,\n",
       "   -0.5226355195045471,\n",
       "   -0.6966291666030884,\n",
       "   -0.809281587600708]})"
      ]
     },
     "execution_count": 13,
     "metadata": {},
     "output_type": "execute_result"
    }
   ],
   "source": [
    "# train the model with train dataset and evaluation with test dataset\n",
    "model.train_model(train, eval_data=test)"
   ]
  },
  {
   "cell_type": "code",
   "execution_count": 14,
   "metadata": {},
   "outputs": [
    {
     "data": {
      "application/vnd.jupyter.widget-view+json": {
       "model_id": "dc7886b5c7d9429388df9698399c9960",
       "version_major": 2,
       "version_minor": 0
      },
      "text/plain": [
       "Running Evaluation:   0%|          | 0/1 [00:00<?, ?it/s]"
      ]
     },
     "metadata": {},
     "output_type": "display_data"
    }
   ],
   "source": [
    "# Evaluate the model\n",
    "result, texts = model.eval_model(test)"
   ]
  },
  {
   "cell_type": "code",
   "execution_count": 15,
   "metadata": {},
   "outputs": [],
   "source": [
    "# Check the Question Answer System andMake predictions with the model\n",
    "question_test = [\n",
    "      {\n",
    "        \"context\": \"Lionel Messi is an Argentine professional footballer widely considered one of the greatest players of all time. He has spent the majority of his career at Barcelona, where he has won numerous trophies including multiple UEFA Champions League titles and Ballon d'Or awards. Messi is known for his incredible dribbling, precise finishing, and vision on the field.\",\n",
    "        \"qas\": [\n",
    "            {\n",
    "                \"id\": \"0\",\n",
    "                \"question\": \"Which football club has Lionel Messi spent most of his career at?\"\n",
    "            }\n",
    "          ]\n",
    "      }\n",
    "  ]"
   ]
  },
  {
   "cell_type": "code",
   "execution_count": 16,
   "metadata": {},
   "outputs": [
    {
     "name": "stderr",
     "output_type": "stream",
     "text": [
      "convert squad examples to features: 100%|██████████| 1/1 [00:00<00:00, 178.44it/s]\n",
      "add example index and unique id: 100%|██████████| 1/1 [00:00<00:00, 1001.51it/s]\n"
     ]
    },
    {
     "data": {
      "application/vnd.jupyter.widget-view+json": {
       "model_id": "7254dbe5fa564f1eb2e279816df460ce",
       "version_major": 2,
       "version_minor": 0
      },
      "text/plain": [
       "Running Prediction:   0%|          | 0/1 [00:00<?, ?it/s]"
      ]
     },
     "metadata": {},
     "output_type": "display_data"
    },
    {
     "name": "stdout",
     "output_type": "stream",
     "text": [
      "[{'id': '0', 'answer': ['empty']}]\n",
      "[{'id': '0', 'probability': [0.45911010447110656]}]\n"
     ]
    }
   ],
   "source": [
    "answers, probabilities = model.predict(question_test)\n",
    "\n",
    "print(answers)\n",
    "print(probabilities)"
   ]
  }
 ],
 "metadata": {
  "kernelspec": {
   "display_name": "Python 3",
   "language": "python",
   "name": "python3"
  },
  "language_info": {
   "codemirror_mode": {
    "name": "ipython",
    "version": 3
   },
   "file_extension": ".py",
   "mimetype": "text/x-python",
   "name": "python",
   "nbconvert_exporter": "python",
   "pygments_lexer": "ipython3",
   "version": "3.11.7"
  }
 },
 "nbformat": 4,
 "nbformat_minor": 2
}
